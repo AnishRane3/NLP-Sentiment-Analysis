{
 "cells": [
  {
   "cell_type": "code",
   "execution_count": 3,
   "id": "b3a91735-e171-452b-8d46-a47e20fc3a62",
   "metadata": {},
   "outputs": [
    {
     "name": "stdout",
     "output_type": "stream",
     "text": [
      "Summary:\n",
      "RCB's seniormost batters put up a partnership of 78 runs in 58 balls after which Du Plessis shared a 35-run stand in 20 balls. IPL 2024, RCB vs CSK Highlights: Royal Challengers Bengaluru completed one of the most remarkable comebacks in the IPL's league stage history by winning their sixth match in a row and qualifying for the playoffs. Kohli and Du Plessis, and later Rajat Patidar and Camergon Green, defied CSK as the visitors threw spinners at them to exploit the conditions. Ravindra Jadeja then shared a 61-run stand with MS Dhoni that came in just 27 balls.\n",
      "1705\n",
      "567\n"
     ]
    }
   ],
   "source": [
    "import spacy\n",
    "from collections import Counter"
   ]
  },
  {
   "cell_type": "code",
   "execution_count": null,
   "id": "975a8697-e7fa-4313-8861-da4efdb1dda7",
   "metadata": {},
   "outputs": [],
   "source": [
    "# Load the spaCy model\n",
    "nlp = spacy.load(\"en_core_web_sm\")"
   ]
  },
  {
   "cell_type": "code",
   "execution_count": null,
   "id": "e9f21b27-cfdb-4a0a-a2e3-f6dab1495967",
   "metadata": {},
   "outputs": [],
   "source": [
    "# Define the text\n",
    "text = \"\"\"\n",
    "IPL 2024, RCB vs CSK Highlights: Royal Challengers Bengaluru completed one of the most remarkable comebacks in the IPL's league stage history by winning their sixth match in a row and qualifying for the playoffs. \n",
    "RCB beat the Chennai Super Kings by 27 runs at home to snatch the final playoff spot away from their rivals. \n",
    "The hosts scored 218/5 batting first and CSK needed to score at least 201 runs to hold on to fourth place. \n",
    "While Rachin Ravindra and Ajinkya Rahane seemed to have resurrected the CSK cause, RCB kept chipping away. \n",
    "Ravindra Jadeja then shared a 61-run stand with MS Dhoni that came in just 27 balls. \n",
    "By this point, the focus was solely on the total that CSK needed to get to so as to reach the playoffs.\n",
    "It came down to CSK needing 17 off the last over to qualify. \n",
    "Yash Dayal was the bowler and Dhoni reduced that deficit to 11 needed off five by hitting a six first ball. \n",
    "However, he fell off the very next ball and Dayal held his cool to give just one more run in the rest of the over. \n",
    "RCB thus recorded their sixth consecutive win and qualified for the playoffs. \n",
    "Gaikwad earlier won the toss and chose to bowl. \n",
    "Virat Kohli and Faf du Plessis smashed 31 runs in three overs before rain appeared and forced the players off the field. \n",
    "RCB motored along after resumption, regardless of whether they lost wickets. \n",
    "Kohli and Du Plessis, and later Rajat Patidar and Camergon Green, defied CSK as the visitors threw spinners at them to exploit the conditions. \n",
    "RCB's seniormost batters put up a partnership of 78 runs in 58 balls after which Du Plessis shared a 35-run stand in 20 balls. \n",
    "Then came a blazing 71-run stand between Patidar and Green that came in just 28 balls.\n",
    "\"\"\"\n"
   ]
  },
  {
   "cell_type": "code",
   "execution_count": null,
   "id": "3b5e27a4-471d-4dda-8d86-649d2f8b9502",
   "metadata": {},
   "outputs": [],
   "source": [
    "doc = nlp(text)\n",
    "sentences = [sent.text.strip() for sent in doc.sents]\n"
   ]
  },
  {
   "cell_type": "code",
   "execution_count": null,
   "id": "54a32d5c-3d91-4101-b62c-92d08e21d559",
   "metadata": {},
   "outputs": [],
   "source": [
    "word_frequencies = Counter()\n",
    "for word in doc:\n",
    "    if not word.is_stop and not word.is_punct:\n",
    "        word_frequencies[word.text.lower()] += 1"
   ]
  },
  {
   "cell_type": "code",
   "execution_count": null,
   "id": "a5c4759d-dc66-4359-9eb5-67818dda4b21",
   "metadata": {},
   "outputs": [],
   "source": [
    "max_frequency = max(word_frequencies.values())\n",
    "for word in word_frequencies.keys():\n",
    "    word_frequencies[word] = (word_frequencies[word] / max_frequency)"
   ]
  },
  {
   "cell_type": "code",
   "execution_count": null,
   "id": "35fa0655-101e-40d8-a00f-20c68df0aced",
   "metadata": {},
   "outputs": [],
   "source": [
    "sentence_scores = {}\n",
    "for sent in sentences:\n",
    "    for word in nlp(sent):\n",
    "        if word.text.lower() in word_frequencies:\n",
    "            if sent not in sentence_scores:\n",
    "                sentence_scores[sent] = word_frequencies[word.text.lower()]\n",
    "            else:\n",
    "                sentence_scores[sent] += word_frequencies[word.text.lower()]"
   ]
  },
  {
   "cell_type": "code",
   "execution_count": null,
   "id": "18533d72-0151-4d94-a298-c624b814e362",
   "metadata": {},
   "outputs": [],
   "source": [
    "from heapq import nlargest\n",
    "\n",
    "select_length = int(len(sentences) * 0.3)\n",
    "summary_sentences = nlargest(select_length, sentence_scores, key=sentence_scores.get)\n",
    "summary = ' '.join(summary_sentences)\n",
    "\n",
    "print(\"Summary:\")\n",
    "print(summary)"
   ]
  },
  {
   "cell_type": "code",
   "execution_count": null,
   "id": "9af6c9b4-d1d3-438d-b0e0-8527cbe55fe8",
   "metadata": {},
   "outputs": [],
   "source": [
    "print(len(text))\n",
    "print(len(summary))"
   ]
  }
 ],
 "metadata": {
  "kernelspec": {
   "display_name": "Python 3 (ipykernel)",
   "language": "python",
   "name": "python3"
  },
  "language_info": {
   "codemirror_mode": {
    "name": "ipython",
    "version": 3
   },
   "file_extension": ".py",
   "mimetype": "text/x-python",
   "name": "python",
   "nbconvert_exporter": "python",
   "pygments_lexer": "ipython3",
   "version": "3.12.3"
  }
 },
 "nbformat": 4,
 "nbformat_minor": 5
}
